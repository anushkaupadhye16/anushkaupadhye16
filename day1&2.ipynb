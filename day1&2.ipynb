{
  "nbformat": 4,
  "nbformat_minor": 0,
  "metadata": {
    "colab": {
      "provenance": [],
      "authorship_tag": "ABX9TyP7ICGCF+akv5dZ0CI+ppUs",
      "include_colab_link": true
    },
    "kernelspec": {
      "name": "python3",
      "display_name": "Python 3"
    },
    "language_info": {
      "name": "python"
    }
  },
  "cells": [
    {
      "cell_type": "markdown",
      "metadata": {
        "id": "view-in-github",
        "colab_type": "text"
      },
      "source": [
        "<a href=\"https://colab.research.google.com/github/anushkaupadhye16/anushkaupadhye16/blob/main/day1%262.ipynb\" target=\"_parent\"><img src=\"https://colab.research.google.com/assets/colab-badge.svg\" alt=\"Open In Colab\"/></a>"
      ]
    },
    {
      "cell_type": "code",
      "execution_count": null,
      "metadata": {
        "colab": {
          "base_uri": "https://localhost:8080/"
        },
        "id": "HUuffywUS8fg",
        "outputId": "a78ac202-6403-4e96-b768-db5d2289414e"
      },
      "outputs": [
        {
          "output_type": "stream",
          "name": "stdout",
          "text": [
            "whta is your name ?Abhishek\n",
            "Anushka Upadhye\n"
          ]
        }
      ],
      "source": [
        "name = input(\"whta is your name ?\")\n",
        "name = \"Anushka Upadhye\"\n",
        "print(name)"
      ]
    },
    {
      "cell_type": "code",
      "source": [
        "print(\"Welcome to the Band_name_generator\\n\")\n",
        "city=input(\"Which city did you grow up in?\\n\")\n",
        "username=input(\"What is your name?\\n\")\n",
        "petname = input(\"What the name of your pet?\\n\")\n",
        "print(\"Your band name could be \"+city+\" \"+petname)"
      ],
      "metadata": {
        "colab": {
          "base_uri": "https://localhost:8080/"
        },
        "id": "0rcH8bQ1UDbu",
        "outputId": "c359e60a-720e-4bf2-c0ff-22186a5af538"
      },
      "execution_count": null,
      "outputs": [
        {
          "output_type": "stream",
          "name": "stdout",
          "text": [
            "Welcome to the Band_name_generator\n",
            "\n",
            "Which city did you grow up in?\n",
            "pune\n",
            "What is your name?\n",
            "Anushka\n",
            "What the name of your pet?\n",
            "marry\n",
            "Your band name could be pune marry\n"
          ]
        }
      ]
    },
    {
      "cell_type": "markdown",
      "source": [
        "## **DAY2**"
      ],
      "metadata": {
        "id": "RGrTxhjdVxgx"
      }
    },
    {
      "cell_type": "code",
      "source": [
        "print(len(\"anushka\"))"
      ],
      "metadata": {
        "colab": {
          "base_uri": "https://localhost:8080/"
        },
        "id": "G8yH40PKV9AK",
        "outputId": "d323ed93-09bb-4720-9c2c-2b3dcbce5f40"
      },
      "execution_count": null,
      "outputs": [
        {
          "output_type": "stream",
          "name": "stdout",
          "text": [
            "7\n"
          ]
        }
      ]
    },
    {
      "cell_type": "code",
      "source": [
        "#datatypes\n",
        "print(\"HEllo\"[4])"
      ],
      "metadata": {
        "colab": {
          "base_uri": "https://localhost:8080/"
        },
        "id": "QZbes7gYWKhq",
        "outputId": "0537f32a-57fb-4bfc-bf03-6c3abf49a872"
      },
      "execution_count": null,
      "outputs": [
        {
          "output_type": "stream",
          "name": "stdout",
          "text": [
            "o\n"
          ]
        }
      ]
    },
    {
      "cell_type": "markdown",
      "source": [
        "123_456_789 is equal to 123456789 in python"
      ],
      "metadata": {
        "id": "lAJDdaHTXexW"
      }
    },
    {
      "cell_type": "code",
      "source": [
        "print(\"123\"+\"345\")"
      ],
      "metadata": {
        "colab": {
          "base_uri": "https://localhost:8080/"
        },
        "id": "zCR-3gHbXO5W",
        "outputId": "edc7a834-910f-4b0f-9519-aec8145f10b7"
      },
      "execution_count": null,
      "outputs": [
        {
          "output_type": "stream",
          "name": "stdout",
          "text": [
            "123345\n"
          ]
        }
      ]
    },
    {
      "cell_type": "markdown",
      "source": [
        "#float\n",
        "#boolean(True, False)"
      ],
      "metadata": {
        "id": "w8L8yQUCXlei"
      }
    },
    {
      "cell_type": "code",
      "source": [
        "num_char = len(input(\"Whta is your name?\"))\n",
        "print(\"Your name has \"+num_char)"
      ],
      "metadata": {
        "colab": {
          "base_uri": "https://localhost:8080/",
          "height": 185
        },
        "id": "Th1bNvhyYm04",
        "outputId": "97f86289-79df-42fa-ebcc-8083d7fb0b47"
      },
      "execution_count": null,
      "outputs": [
        {
          "name": "stdout",
          "output_type": "stream",
          "text": [
            "Whta is your name?Anushka\n"
          ]
        },
        {
          "output_type": "error",
          "ename": "TypeError",
          "evalue": "can only concatenate str (not \"int\") to str",
          "traceback": [
            "\u001b[0;31m---------------------------------------------------------------------------\u001b[0m",
            "\u001b[0;31mTypeError\u001b[0m                                 Traceback (most recent call last)",
            "\u001b[0;32m<ipython-input-8-415769788c20>\u001b[0m in \u001b[0;36m<cell line: 2>\u001b[0;34m()\u001b[0m\n\u001b[1;32m      1\u001b[0m \u001b[0mnum_char\u001b[0m \u001b[0;34m=\u001b[0m \u001b[0mlen\u001b[0m\u001b[0;34m(\u001b[0m\u001b[0minput\u001b[0m\u001b[0;34m(\u001b[0m\u001b[0;34m\"Whta is your name?\"\u001b[0m\u001b[0;34m)\u001b[0m\u001b[0;34m)\u001b[0m\u001b[0;34m\u001b[0m\u001b[0;34m\u001b[0m\u001b[0m\n\u001b[0;32m----> 2\u001b[0;31m \u001b[0mprint\u001b[0m\u001b[0;34m(\u001b[0m\u001b[0;34m\"Your name has \"\u001b[0m\u001b[0;34m+\u001b[0m\u001b[0mnum_char\u001b[0m\u001b[0;34m)\u001b[0m\u001b[0;34m\u001b[0m\u001b[0;34m\u001b[0m\u001b[0m\n\u001b[0m",
            "\u001b[0;31mTypeError\u001b[0m: can only concatenate str (not \"int\") to str"
          ]
        }
      ]
    },
    {
      "cell_type": "code",
      "source": [
        "new_num_char = str(num_char)\n",
        "print(\"Your name has \" + new_num_char +\" characters\")"
      ],
      "metadata": {
        "colab": {
          "base_uri": "https://localhost:8080/"
        },
        "id": "vBfptx-LZSpA",
        "outputId": "b33b560d-6a85-40de-8aa0-df8b7caaee59"
      },
      "execution_count": null,
      "outputs": [
        {
          "output_type": "stream",
          "name": "stdout",
          "text": [
            "Your name has 7 characters\n"
          ]
        }
      ]
    },
    {
      "cell_type": "markdown",
      "source": [
        "a= str(123)\n",
        "print(type(a))\n"
      ],
      "metadata": {
        "id": "GsPW1RpUZzm5"
      }
    },
    {
      "cell_type": "code",
      "source": [
        "a- float(123)\n",
        "print(70.0+ float(100.5))"
      ],
      "metadata": {
        "colab": {
          "base_uri": "https://localhost:8080/",
          "height": 166
        },
        "id": "rCtJ_l4RaGiS",
        "outputId": "87669179-dfbe-44a1-97d9-ef2cc393c49b"
      },
      "execution_count": null,
      "outputs": [
        {
          "output_type": "error",
          "ename": "TypeError",
          "evalue": "unsupported operand type(s) for -: 'str' and 'float'",
          "traceback": [
            "\u001b[0;31m---------------------------------------------------------------------------\u001b[0m",
            "\u001b[0;31mTypeError\u001b[0m                                 Traceback (most recent call last)",
            "\u001b[0;32m<ipython-input-13-9f0ef9193a4e>\u001b[0m in \u001b[0;36m<cell line: 1>\u001b[0;34m()\u001b[0m\n\u001b[0;32m----> 1\u001b[0;31m \u001b[0ma\u001b[0m\u001b[0;34m-\u001b[0m \u001b[0mfloat\u001b[0m\u001b[0;34m(\u001b[0m\u001b[0;36m123\u001b[0m\u001b[0;34m)\u001b[0m\u001b[0;34m\u001b[0m\u001b[0;34m\u001b[0m\u001b[0m\n\u001b[0m\u001b[1;32m      2\u001b[0m \u001b[0mprint\u001b[0m\u001b[0;34m(\u001b[0m\u001b[0;36m70.0\u001b[0m\u001b[0;34m+\u001b[0m \u001b[0mfloat\u001b[0m\u001b[0;34m(\u001b[0m\u001b[0;36m100.5\u001b[0m\u001b[0;34m)\u001b[0m\u001b[0;34m)\u001b[0m\u001b[0;34m\u001b[0m\u001b[0;34m\u001b[0m\u001b[0m\n",
            "\u001b[0;31mTypeError\u001b[0m: unsupported operand type(s) for -: 'str' and 'float'"
          ]
        }
      ]
    },
    {
      "cell_type": "markdown",
      "source": [
        "my *day2"
      ],
      "metadata": {
        "id": "YBjAJfW34kAq"
      }
    },
    {
      "cell_type": "code",
      "source": [
        "# 3 + 5\n",
        "# 7 - 4\n",
        "# 3 * 7\n",
        "# 6 / 3\n",
        "# 2 ** 3(exponent)\n",
        "\n",
        "# PEDMAS\n",
        "# ()\n",
        "# **\n",
        "# * + / -\n",
        "\n",
        "print(3 * 3+3/3 - 3 )\n",
        "\n"
      ],
      "metadata": {
        "colab": {
          "base_uri": "https://localhost:8080/"
        },
        "id": "NHevbEYb3lO6",
        "outputId": "ff319d93-abea-45ce-e57b-ad8413503a4d"
      },
      "execution_count": null,
      "outputs": [
        {
          "output_type": "stream",
          "name": "stdout",
          "text": [
            "7.0\n"
          ]
        }
      ]
    },
    {
      "cell_type": "code",
      "source": [
        "# bmi calculation\n",
        "height = float(input(\"enter your height in m\"))\n",
        "weight = int(input(\"enter your weight in kg\"))\n",
        "\n",
        "bmi = weight /height**2\n",
        "\n",
        "print(bmi)"
      ],
      "metadata": {
        "colab": {
          "base_uri": "https://localhost:8080/"
        },
        "id": "MyBxFZNP53rj",
        "outputId": "776a9e7a-1d7e-4b3e-e92d-858226cb9d75"
      },
      "execution_count": null,
      "outputs": [
        {
          "output_type": "stream",
          "name": "stdout",
          "text": [
            "enter your height in m16.8\n",
            "enter your weight in kg54\n",
            "0.1913265306122449\n"
          ]
        }
      ]
    },
    {
      "cell_type": "code",
      "source": [
        "print(round(2.66666666 , 2))\n",
        "\n",
        "print(type(8//3))\n",
        "\n",
        "result=4/2\n",
        "result/=2\n",
        "print(result)"
      ],
      "metadata": {
        "colab": {
          "base_uri": "https://localhost:8080/"
        },
        "id": "9rrEU8d-60gX",
        "outputId": "3c418caa-ed0b-4458-8cb6-b4778d2b1cc7"
      },
      "execution_count": null,
      "outputs": [
        {
          "output_type": "stream",
          "name": "stdout",
          "text": [
            "2.67\n",
            "<class 'int'>\n",
            "1.0\n"
          ]
        }
      ]
    },
    {
      "cell_type": "code",
      "source": [
        "score = 0\n",
        "#user scores a point\n",
        "score += 1\n",
        "print(score)\n",
        "\n",
        "print(\"your score is \"+ str(score))"
      ],
      "metadata": {
        "colab": {
          "base_uri": "https://localhost:8080/"
        },
        "id": "TE2djTtC7ehi",
        "outputId": "c0afc915-d39a-4cf9-e6c8-21ae83def377"
      },
      "execution_count": null,
      "outputs": [
        {
          "output_type": "stream",
          "name": "stdout",
          "text": [
            "1\n"
          ]
        }
      ]
    },
    {
      "cell_type": "markdown",
      "source": [
        "# **f-string**"
      ],
      "metadata": {
        "id": "XHQUITx271CD"
      }
    },
    {
      "cell_type": "code",
      "source": [
        "score = 0\n",
        "height = 1.8\n",
        "isWinning = True\n",
        "\n",
        "#f_string\n",
        "print(f\"your score is {score}, your height is {height}, you are winning is (isWinning)\")"
      ],
      "metadata": {
        "colab": {
          "base_uri": "https://localhost:8080/"
        },
        "id": "ukhUwwG-8LlC",
        "outputId": "57544aa5-2e95-4f7d-8eee-0ac52d379c97"
      },
      "execution_count": null,
      "outputs": [
        {
          "output_type": "stream",
          "name": "stdout",
          "text": [
            "your score is 0, your height is 1.8, you are winning is (isWinning)\n"
          ]
        }
      ]
    },
    {
      "cell_type": "markdown",
      "source": [
        "*YOUR LIFE IN WEEKS*"
      ],
      "metadata": {
        "id": "v1sN-Riu92zs"
      }
    },
    {
      "cell_type": "code",
      "source": [
        "age = input(\"enter your current age : \") #input comes in string datatype\n",
        "years_left = 90 - int(age) # so convert age into intput\n",
        "\n",
        "#1year = 52 weeks\n",
        "x = years_left * 52\n",
        "\n",
        "print(f\"you have {x} weeks left.\")"
      ],
      "metadata": {
        "colab": {
          "base_uri": "https://localhost:8080/"
        },
        "id": "mAzjbguK906W",
        "outputId": "1c436fc6-1e49-4de8-841a-1d334d1674d8"
      },
      "execution_count": null,
      "outputs": [
        {
          "output_type": "stream",
          "name": "stdout",
          "text": [
            "enter your current age : 19\n",
            "you have 3692 weeks left.\n"
          ]
        }
      ]
    },
    {
      "cell_type": "markdown",
      "source": [
        "# **Floating Point Arithmetic: Issues and Limitations**\n",
        "Floating-point numbers are represented in computer hardware as base 2 (binary) fractions. For example, the decimal fraction 0.625 has value 6/10 + 2/100 + 5/1000, and in the same way the binary fraction 0.101 has value 1/2 + 0/4 + 1/8. These two fractions have identical values, the only real difference being that the first is written in base 10 fractional notation, and the second in base 2.\n",
        "\n",
        "Unfortunately, most decimal fractions cannot be represented exactly as binary fractions. A consequence is that, in general, the decimal floating-point numbers you enter are only approximated by the binary floating-point numbers actually stored in the machine.\n",
        "\n",
        "The problem is easier to understand at first in base 10. Consider the fraction 1/3. You can approximate that as a base 10 fraction:\n",
        "\n",
        "0.3\n",
        "or, better,\n",
        "\n",
        "0.33\n",
        "or, better,\n",
        "\n",
        "0.333\n",
        "and so on. No matter how many digits you’re willing to write down, the result will never be exactly 1/3, but will be an increasingly better approximation of 1/3.\n",
        "\n",
        "In the same way, no matter how many base 2 digits you’re willing to use, the decimal value 0.1 cannot be represented exactly as a base 2 fraction. In base 2, 1/10 is the infinitely repeating fraction\n",
        "\n",
        "0.0001100110011001100110011001100110011001100110011...\n",
        "Stop at any finite number of bits, and you get an approximation. On most machines today, floats are approximated using a binary fraction with the numerator using the first 53 bits starting with the most significant bit and with the denominator as a power of two. In the case of 1/10, the binary fraction is 3602879701896397 / 2 ** 55 which is close to but not exactly equal to the true value of 1/10.\n",
        "\n",
        "Many users are not aware of the approximation because of the way values are displayed. Python only prints a decimal approximation to the true decimal value of the binary approximation stored by the machine. On most machines, if Python were to print the true decimal value of the binary approximation stored for 0.1, it would have to display:\n",
        "\n",
        ">>>\n",
        "0.1\n",
        "0.1000000000000000055511151231257827021181583404541015625\n",
        "That is more digits than most people find useful, so Python keeps the number of digits manageable by displaying a rounded value instead:\n",
        "\n",
        ">>>\n",
        "1 / 10\n",
        "0.1\n",
        "Just remember, even though the printed result looks like the exact value of 1/10, the actual stored value is the nearest representable binary fraction.\n",
        "\n",
        "Interestingly, there are many different decimal numbers that share the same nearest approximate binary fraction. For example, the numbers 0.1 and 0.10000000000000001 and 0.1000000000000000055511151231257827021181583404541015625 are all approximated by 3602879701896397 / 2 ** 55. Since all of these decimal values share the same approximation, any one of them could be displayed while still preserving the invariant eval(repr(x)) == x.\n",
        "\n",
        "Historically, the Python prompt and built-in repr() function would choose the one with 17 significant digits, 0.10000000000000001. Starting with Python 3.1, Python (on most systems) is now able to choose the shortest of these and simply display 0.1.\n",
        "\n",
        "Note that this is in the very nature of binary floating-point: this is not a bug in Python, and it is not a bug in your code either. You’ll see the same kind of thing in all languages that support your hardware’s floating-point arithmetic (although some languages may not display the difference by default, or in all output modes).\n",
        "\n",
        "For more pleasant output, you may wish to use string formatting to produce a limited number of significant digits:\n",
        "\n",
        ">>>\n",
        "format(math.pi, '.12g')  # give 12 significant digits\n",
        "'3.14159265359'\n",
        "\n",
        "format(math.pi, '.2f')   # give 2 digits after the point\n",
        "'3.14'\n",
        "\n",
        "repr(math.pi)\n",
        "'3.141592653589793'\n",
        "It’s important to realize that this is, in a real sense, an illusion: you’re simply rounding the display of the true machine value.\n",
        "\n",
        "One illusion may beget another. For example, since 0.1 is not exactly 1/10, summing three values of 0.1 may not yield exactly 0.3, either:\n",
        "\n",
        ">>>\n",
        "0.1 + 0.1 + 0.1 == 0.3\n",
        "False\n",
        "Also, since the 0.1 cannot get any closer to the exact value of 1/10 and 0.3 cannot get any closer to the exact value of 3/10, then pre-rounding with round() function cannot help:\n",
        "\n",
        ">>>\n",
        "round(0.1, 1) + round(0.1, 1) + round(0.1, 1) == round(0.3, 1)\n",
        "False\n",
        "Though the numbers cannot be made closer to their intended exact values, the math.isclose() function can be useful for comparing inexact values:\n",
        "\n",
        ">>>\n",
        "math.isclose(0.1 + 0.1 + 0.1, 0.3)\n",
        "True\n",
        "Alternatively, the round() function can be used to compare rough approximations:\n",
        "\n",
        ">>>\n",
        "round(math.pi, ndigits=2) == round(22 / 7, ndigits=2)\n",
        "True\n",
        "Binary floating-point arithmetic holds many surprises like this. The problem with “0.1” is explained in precise detail below, in the “Representation Error” section. See Examples of Floating Point Problems for a pleasant summary of how binary floating-point works and the kinds of problems commonly encountered in practice. Also see The Perils of Floating Point for a more complete account of other common surprises.\n",
        "\n",
        "As that says near the end, “there are no easy answers.” Still, don’t be unduly wary of floating-point! The errors in Python float operations are inherited from the floating-point hardware, and on most machines are on the order of no more than 1 part in 2**53 per operation. That’s more than adequate for most tasks, but you do need to keep in mind that it’s not decimal arithmetic and that every float operation can suffer a new rounding error.\n",
        "\n",
        "While pathological cases do exist, for most casual use of floating-point arithmetic you’ll see the result you expect in the end if you simply round the display of your final results to the number of decimal digits you expect. str() usually suffices, and for finer control see the str.format() method’s format specifiers in Format String Syntax.\n",
        "\n",
        "For use cases which require exact decimal representation, try using the decimal module which implements decimal arithmetic suitable for accounting applications and high-precision applications.\n",
        "\n",
        "Another form of exact arithmetic is supported by the fractions module which implements arithmetic based on rational numbers (so the numbers like 1/3 can be represented exactly).\n",
        "\n",
        "If you are a heavy user of floating-point operations you should take a look at the NumPy package and many other packages for mathematical and statistical operations supplied by the SciPy project. See <https://scipy.org>.\n",
        "\n",
        "Python provides tools that may help on those rare occasions when you really do want to know the exact value of a float. The float.as_integer_ratio() method expresses the value of a float as a fraction:\n",
        "\n",
        ">>>\n",
        "x = 3.14159\n",
        "x.as_integer_ratio()\n",
        "(3537115888337719, 1125899906842624)\n",
        "Since the ratio is exact, it can be used to losslessly recreate the original value:\n",
        "\n",
        ">>>\n",
        "x == 3537115888337719 / 1125899906842624\n",
        "True\n",
        "The float.hex() method expresses a float in hexadecimal (base 16), again giving the exact value stored by your computer:\n",
        "\n",
        ">>>\n",
        "x.hex()\n",
        "'0x1.921f9f01b866ep+1'\n",
        "This precise hexadecimal representation can be used to reconstruct the float value exactly:\n",
        "\n",
        ">>>\n",
        "x == float.fromhex('0x1.921f9f01b866ep+1')\n",
        "True\n",
        "Since the representation is exact, it is useful for reliably porting values across different versions of Python (platform independence) and exchanging data with other languages that support the same format (such as Java and C99).\n",
        "\n",
        "Another helpful tool is the sum() function which helps mitigate loss-of-precision during summation. It uses extended precision for intermediate rounding steps as values are added onto a running total. That can make a difference in overall accuracy so that the errors do not accumulate to the point where they affect the final total:\n",
        "\n",
        ">>>\n",
        "0.1 + 0.1 + 0.1 + 0.1 + 0.1 + 0.1 + 0.1 + 0.1 + 0.1 + 0.1 == 1.0\n",
        "False\n",
        "sum([0.1] * 10) == 1.0\n",
        "True\n",
        "The math.fsum() goes further and tracks all of the “lost digits” as values are added onto a running total so that the result has only a single rounding. This is slower than sum() but will be more accurate in uncommon cases where large magnitude inputs mostly cancel each other out leaving a final sum near zero:\n",
        "\n",
        ">>>\n",
        "arr = [-0.10430216751806065, -266310978.67179024, 143401161448607.16,\n",
        "       -143401161400469.7, 266262841.31058735, -0.003244936839808227]\n",
        "float(sum(map(Fraction, arr)))   # Exact summation with single rounding\n",
        "8.042173697819788e-13\n",
        "math.fsum(arr)                   # Single rounding\n",
        "8.042173697819788e-13\n",
        "sum(arr)                         # Multiple roundings in extended precision\n",
        "8.042178034628478e-13\n",
        "total = 0.0\n",
        "for x in arr:\n",
        "    total += x                   # Multiple roundings in standard precision\n",
        "\n",
        "total                            # Straight addition has no correct digits!\n",
        "-0.0051575902860057365\n",
        "15.1. Representation Error\n",
        "This section explains the “0.1” example in detail, and shows how you can perform an exact analysis of cases like this yourself. Basic familiarity with binary floating-point representation is assumed.\n",
        "\n",
        "Representation error refers to the fact that some (most, actually) decimal fractions cannot be represented exactly as binary (base 2) fractions. This is the chief reason why Python (or Perl, C, C++, Java, Fortran, and many others) often won’t display the exact decimal number you expect.\n",
        "\n",
        "Why is that? 1/10 is not exactly representable as a binary fraction. Since at least 2000, almost all machines use IEEE 754 binary floating-point arithmetic, and almost all platforms map Python floats to IEEE 754 binary64 “double precision” values. IEEE 754 binary64 values contain 53 bits of precision, so on input the computer strives to convert 0.1 to the closest fraction it can of the form J/2**N where J is an integer containing exactly 53 bits. Rewriting\n",
        "\n",
        "1 / 10 ~= J / (2**N)\n",
        "as\n",
        "\n",
        "J ~= 2**N / 10\n",
        "and recalling that J has exactly 53 bits (is >= 2**52 but < 2**53), the best value for N is 56:\n",
        "\n",
        ">>>\n",
        "2**52 <=  2**56 // 10  < 2**53\n",
        "True\n",
        "That is, 56 is the only value for N that leaves J with exactly 53 bits. The best possible value for J is then that quotient rounded:\n",
        "\n",
        ">>>\n",
        "q, r = divmod(2**56, 10)\n",
        "r\n",
        "6\n",
        "Since the remainder is more than half of 10, the best approximation is obtained by rounding up:\n",
        "\n",
        ">>>\n",
        "q+1\n",
        "7205759403792794\n",
        "Therefore the best possible approximation to 1/10 in IEEE 754 double precision is:\n",
        "\n",
        "7205759403792794 / 2 ** 56\n",
        "Dividing both the numerator and denominator by two reduces the fraction to:\n",
        "\n",
        "3602879701896397 / 2 ** 55\n",
        "Note that since we rounded up, this is actually a little bit larger than 1/10; if we had not rounded up, the quotient would have been a little bit smaller than 1/10. But in no case can it be exactly 1/10!\n",
        "\n",
        "So the computer never “sees” 1/10: what it sees is the exact fraction given above, the best IEEE 754 double approximation it can get:\n",
        "\n",
        ">>>\n",
        "0.1 * 2 ** 55\n",
        "3602879701896397.0\n",
        "If we multiply that fraction by 10**55, we can see the value out to 55 decimal digits:\n",
        "\n",
        ">>>\n",
        "3602879701896397 * 10 ** 55 // 2 ** 55\n",
        "1000000000000000055511151231257827021181583404541015625\n",
        "meaning that the exact number stored in the computer is equal to the decimal value 0.1000000000000000055511151231257827021181583404541015625. Instead of displaying the full decimal value, many languages (including older versions of Python), round the result to 17 significant digits:\n",
        "\n",
        ">>>\n",
        "format(0.1, '.17f')\n",
        "'0.10000000000000001'\n",
        "The fractions and decimal modules make these calculations easy:\n",
        "\n",
        ">>>\n",
        "from decimal import Decimal\n",
        "from fractions import Fraction\n",
        "\n",
        "Fraction.from_float(0.1)\n",
        "Fraction(3602879701896397, 36028797018963968)\n",
        "\n",
        "(0.1).as_integer_ratio()\n",
        "(3602879701896397, 36028797018963968)\n",
        "\n",
        "Decimal.from_float(0.1)\n",
        "Decimal('0.1000000000000000055511151231257827021181583404541015625')\n",
        "\n",
        "format(Decimal.from_float(0.1), '.17')\n",
        "'0.10000000000000001'"
      ],
      "metadata": {
        "id": "CfsfnCnqDi4K"
      }
    },
    {
      "cell_type": "code",
      "source": [],
      "metadata": {
        "id": "p6jUCrK2Dnpt"
      },
      "execution_count": null,
      "outputs": []
    }
  ]
}